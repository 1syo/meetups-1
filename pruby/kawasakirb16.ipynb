{
 "metadata": {
  "language": "ruby",
  "name": "",
  "signature": "sha256:f8b241dea112c66c2afe590175f321d53839e707295cc1fc6f79db013764fef4"
 },
 "nbformat": 3,
 "nbformat_minor": 0,
 "worksheets": [
  {
   "cells": [
    {
     "cell_type": "code",
     "collapsed": false,
     "input": [
      "returned =\n",
      "  begin\n",
      "    value = 'return value'\n",
      "    \n",
      "    raise\n",
      "  rescue\n",
      "    value\n",
      "  ensure\n",
      "    'this is not return value'\n",
      "  end\n",
      "\n",
      "puts returned"
     ],
     "language": "python",
     "metadata": {},
     "outputs": [
      {
       "output_type": "stream",
       "stream": "stdout",
       "text": [
        "return value\n"
       ]
      }
     ],
     "prompt_number": 5
    },
    {
     "cell_type": "code",
     "collapsed": false,
     "input": [
      "def meth1\n",
      "  puts 1 / 0\n",
      "  \n",
      "rescue\n",
      "  'hoge'\n",
      "else\n",
      "  'fuga'\n",
      "ensure\n",
      "  'piyo'\n",
      "end\n",
      "\n",
      "meth1"
     ],
     "language": "python",
     "metadata": {},
     "outputs": [
      {
       "metadata": {},
       "output_type": "pyout",
       "prompt_number": 7,
       "text": [
        "\"hoge\""
       ]
      }
     ],
     "prompt_number": 7
    },
    {
     "cell_type": "code",
     "collapsed": false,
     "input": [
      "catch :triple_loop do\n",
      "  loop do\n",
      "    puts 'one'\n",
      "    \n",
      "    loop do\n",
      "      puts 'two'\n",
      "      \n",
      "      loop do\n",
      "        puts 'three'\n",
      "        \n",
      "        throw :triple_loop\n",
      "      end\n",
      "    end\n",
      "  end\n",
      "end\n"
     ],
     "language": "python",
     "metadata": {},
     "outputs": [
      {
       "output_type": "stream",
       "stream": "stdout",
       "text": [
        "one\n"
       ]
      },
      {
       "output_type": "stream",
       "stream": "stdout",
       "text": [
        "two\n"
       ]
      },
      {
       "output_type": "stream",
       "stream": "stdout",
       "text": [
        "three\n"
       ]
      }
     ],
     "prompt_number": 1
    },
    {
     "cell_type": "code",
     "collapsed": false,
     "input": [
      "catch(:foo) {\n",
      "  throw :foo, 'hoge'\n",
      "  }"
     ],
     "language": "python",
     "metadata": {},
     "outputs": [
      {
       "metadata": {},
       "output_type": "pyout",
       "prompt_number": 4,
       "text": [
        "\"hoge\""
       ]
      }
     ],
     "prompt_number": 4
    }
   ],
   "metadata": {}
  }
 ]
}